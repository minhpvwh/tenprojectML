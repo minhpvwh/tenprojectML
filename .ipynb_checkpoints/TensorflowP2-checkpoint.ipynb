{
 "cells": [
  {
   "cell_type": "code",
   "execution_count": 2,
   "metadata": {},
   "outputs": [],
   "source": [
    "import tensorflow as tf\n",
    "import numpy as np"
   ]
  },
  {
   "cell_type": "code",
   "execution_count": 3,
   "metadata": {},
   "outputs": [
    {
     "name": "stdout",
     "output_type": "stream",
     "text": [
      "(10000, 2)\n"
     ]
    }
   ],
   "source": [
    "X_matrix = np.random.random((10000,2))\n",
    "print(X_matrix.shape)"
   ]
  },
  {
   "cell_type": "code",
   "execution_count": 5,
   "metadata": {},
   "outputs": [],
   "source": [
    "sample_weights = np.array([3 ,4])"
   ]
  },
  {
   "cell_type": "code",
   "execution_count": 7,
   "metadata": {},
   "outputs": [
    {
     "name": "stdout",
     "output_type": "stream",
     "text": [
      "(10000,)\n",
      "[3.06137491 5.10512544 3.16137495 ... 3.62923702 3.06528552 4.01409448]\n"
     ]
    }
   ],
   "source": [
    "y_data = np.matmul(X_matrix, sample_weights)\n",
    "print(y_data.shape)\n",
    "print(y_data)"
   ]
  },
  {
   "cell_type": "code",
   "execution_count": 87,
   "metadata": {},
   "outputs": [
    {
     "data": {
      "text/plain": [
       "4.16504433160771"
      ]
     },
     "execution_count": 87,
     "metadata": {},
     "output_type": "execute_result"
    }
   ],
   "source": [
    "#x0*3 + x1*4\n",
    "y_data[0]"
   ]
  },
  {
   "cell_type": "code",
   "execution_count": 88,
   "metadata": {},
   "outputs": [],
   "source": [
    "# Approxiation Y\n",
    "y_data = np.add(y_data, np.random.uniform(-0.5,0.5))"
   ]
  },
  {
   "cell_type": "code",
   "execution_count": 14,
   "metadata": {},
   "outputs": [
    {
     "name": "stdout",
     "output_type": "stream",
     "text": [
      "[[3.06137491]\n",
      " [5.10512544]\n",
      " [3.16137495]\n",
      " ...\n",
      " [3.62923702]\n",
      " [3.06528552]\n",
      " [4.01409448]]\n",
      "(10000, 1)\n"
     ]
    }
   ],
   "source": [
    "y_data = y_data.reshape(len(y_data),1)\n",
    "print(y_data)\n",
    "print(y_data.shape)"
   ]
  },
  {
   "cell_type": "code",
   "execution_count": 11,
   "metadata": {},
   "outputs": [],
   "source": [
    "# chia tập dữ liệu thành train và test\n",
    "from sklearn.model_selection import train_test_split\n",
    "\n",
    "X_train, X_test, Y_train, Y_test = train_test_split(X_matrix, y_data,\n",
    "                                                    test_size=0.2, random_state=42)"
   ]
  },
  {
   "cell_type": "code",
   "execution_count": 12,
   "metadata": {},
   "outputs": [
    {
     "name": "stdout",
     "output_type": "stream",
     "text": [
      "[[0.80942588 0.72146589]\n",
      " [0.91428279 0.89693192]\n",
      " [0.00480622 0.2348047 ]\n",
      " ...\n",
      " [0.40770321 0.02665668]\n",
      " [0.75224966 0.47648021]\n",
      " [0.34871749 0.00164508]]\n"
     ]
    },
    {
     "data": {
      "text/plain": [
       "(8000, 2)"
      ]
     },
     "execution_count": 12,
     "metadata": {},
     "output_type": "execute_result"
    }
   ],
   "source": [
    "print(X_train)\n",
    "X_train.shape"
   ]
  },
  {
   "cell_type": "markdown",
   "metadata": {},
   "source": [
    "- hàm số có chiều đi xuống thì hàm là hàm nghịch biến đi theo chiều tăng của gốc tọa độ có nghĩa là đang đi ngược hướng của đạo hàm\n",
    "- hàm đồng biến đạo hàm tiến theo chiều dương thì nó sẽ di chuyển theo chiều âm"
   ]
  },
  {
   "cell_type": "code",
   "execution_count": 92,
   "metadata": {},
   "outputs": [],
   "source": [
    "n_dim = X_train.shape[1]\n",
    "# các placeholder để truyền dữ liệu vào\n",
    "X = tf.placeholder(tf.float32, [None, n_dim])\n",
    "# print(X.shape)\n",
    "y = tf.placeholder(tf.float32, [None, 1])"
   ]
  },
  {
   "cell_type": "code",
   "execution_count": 93,
   "metadata": {},
   "outputs": [],
   "source": [
    "# chúng ta cần khởi tạo wo, w1 ban đầu\n",
    "# vì chúng k phải tạo từ dữ liệu nên dùng variable\n",
    "W = tf.Variable(tf.ones([n_dim, 1]))\n",
    "b = tf.Variable(np.random.randn(), dtype=tf.float32)"
   ]
  },
  {
   "cell_type": "code",
   "execution_count": 94,
   "metadata": {},
   "outputs": [],
   "source": [
    "pred = tf.add(tf.matmul(X, W), b)"
   ]
  },
  {
   "cell_type": "code",
   "execution_count": 95,
   "metadata": {},
   "outputs": [],
   "source": [
    "# lấy trung bình tổng các giá trị\n",
    "loss = tf.reduce_mean(tf.square(pred - y))"
   ]
  },
  {
   "cell_type": "code",
   "execution_count": 96,
   "metadata": {},
   "outputs": [],
   "source": [
    "# trong tensorflow đã có sẵn GradientDescent\n",
    "# .minimize() cực tiểu hóa hàm loss\n",
    "learning_rate = 0.01\n",
    "optimizer = tf.train.GradientDescentOptimizer(learning_rate=learning_rate).minimize(loss)"
   ]
  },
  {
   "cell_type": "code",
   "execution_count": 113,
   "metadata": {},
   "outputs": [],
   "source": [
    "init = tf.global_variables_initializer()"
   ]
  },
  {
   "cell_type": "code",
   "execution_count": 114,
   "metadata": {},
   "outputs": [],
   "source": [
    "sess= tf.Session()\n",
    "# chạy khởi tạo trước đã\n",
    "sess.run(init)"
   ]
  },
  {
   "cell_type": "code",
   "execution_count": 119,
   "metadata": {},
   "outputs": [
    {
     "name": "stdout",
     "output_type": "stream",
     "text": [
      "test loss  0 3.86007e-06\n",
      "test loss  500 1.2499191e-06\n",
      "test loss  1000 4.0604243e-07\n",
      "test loss  1500 1.3258551e-07\n",
      "test loss  2000 4.346199e-08\n",
      "test loss  2500 1.4517333e-08\n",
      "test loss  3000 5.105585e-09\n",
      "test loss  3500 1.4828105e-09\n"
     ]
    }
   ],
   "source": [
    "# training\n",
    "# cần định nghĩa training trong bao lâu, epochs for để training tối ưu loss\n",
    "# feed_dict truyền vào các tham số của pred\n",
    "epochs = 4000\n",
    "loss_history = []\n",
    "for epoch in range(epochs):\n",
    "    # trong hàm này tối ưu optimizer để minima\n",
    "    sess.run(optimizer, feed_dict={X: X_train, y: Y_train})\n",
    "    \n",
    "    test_loss = sess.run(loss, feed_dict={X: X_test, y: Y_test})\n",
    "    loss_history.append(test_loss)\n",
    "    if epoch % 500 == 0:\n",
    "        print(\"test loss \", epoch ,test_loss)\n"
   ]
  },
  {
   "cell_type": "code",
   "execution_count": 120,
   "metadata": {},
   "outputs": [
    {
     "data": {
      "text/plain": [
       "array([[2.9999266],\n",
       "       [3.9999254]], dtype=float32)"
      ]
     },
     "execution_count": 120,
     "metadata": {},
     "output_type": "execute_result"
    }
   ],
   "source": [
    "sess.run(W)"
   ]
  },
  {
   "cell_type": "code",
   "execution_count": 121,
   "metadata": {},
   "outputs": [
    {
     "data": {
      "text/plain": [
       "0.08079683"
      ]
     },
     "execution_count": 121,
     "metadata": {},
     "output_type": "execute_result"
    }
   ],
   "source": [
    "sess.run(b)"
   ]
  },
  {
   "cell_type": "code",
   "execution_count": 122,
   "metadata": {},
   "outputs": [
    {
     "data": {
      "image/png": "[encoded data removed]",
      "text/plain": [
       "<Figure size 432x288 with 1 Axes>"
      ]
     },
     "metadata": {
      "needs_background": "light"
     },
     "output_type": "display_data"
    }
   ],
   "source": [
    "import matplotlib.pyplot as plt\n",
    "plt.plot(range(len(loss_history)), loss_history)\n",
    "plt.axis([0, epochs, 0, np.max(loss_history)])\n",
    "plt.show()"
   ]
  },
  {
   "cell_type": "code",
   "execution_count": 125,
   "metadata": {},
   "outputs": [],
   "source": [
    "pred_y = sess.run(pred, feed_dict={X:[[3,10]]})"
   ]
  },
  {
   "cell_type": "code",
   "execution_count": 126,
   "metadata": {},
   "outputs": [
    {
     "name": "stdout",
     "output_type": "stream",
     "text": [
      "[[49.079826]]\n"
     ]
    }
   ],
   "source": [
    "print(pred_y)\n",
    "\n",
    "#nhược điểm model này rất nhạy cảm vs nhiễu, và các dữ liệu ở dạng tuyến tính"
   ]
  }
 ],
 "metadata": {
  "kernelspec": {
   "display_name": "Python 3",
   "language": "python",
   "name": "python3"
  },
  "language_info": {
   "codemirror_mode": {
    "name": "ipython",
    "version": 3
   },
   "file_extension": ".py",
   "mimetype": "text/x-python",
   "name": "python",
   "nbconvert_exporter": "python",
   "pygments_lexer": "ipython3",
   "version": "3.7.3"
  }
 },
 "nbformat": 4,
 "nbformat_minor": 2
}
