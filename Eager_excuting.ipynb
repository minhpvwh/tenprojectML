{
 "cells": [
  {
   "cell_type": "code",
   "execution_count": 64,
   "metadata": {},
   "outputs": [],
   "source": [
    "from __future__ import absolute_import, division, print_function\n",
    "import tensorflow as tf"
   ]
  },
  {
   "cell_type": "code",
   "execution_count": 65,
   "metadata": {},
   "outputs": [],
   "source": [
    "tf.enable_eager_execution()"
   ]
  },
  {
   "cell_type": "code",
   "execution_count": 66,
   "metadata": {},
   "outputs": [
    {
     "data": {
      "text/plain": [
       "True"
      ]
     },
     "execution_count": 66,
     "metadata": {},
     "output_type": "execute_result"
    }
   ],
   "source": [
    "tf.executing_eagerly()"
   ]
  },
  {
   "cell_type": "code",
   "execution_count": 67,
   "metadata": {},
   "outputs": [
    {
     "name": "stdout",
     "output_type": "stream",
     "text": [
      "tf.Tensor([[4.]], shape=(1, 1), dtype=float32)\n"
     ]
    }
   ],
   "source": [
    "x= [[2.]]\n",
    "n = tf.matmul(x,x)\n",
    "print(n)"
   ]
  },
  {
   "cell_type": "code",
   "execution_count": 68,
   "metadata": {},
   "outputs": [
    {
     "data": {
      "text/plain": [
       "array([[4.]], dtype=float32)"
      ]
     },
     "execution_count": 68,
     "metadata": {},
     "output_type": "execute_result"
    }
   ],
   "source": [
    "# Khi thao tác vs eager mode chúng ta k cần khởi tạo section hay graph\n",
    "n.numpy()"
   ]
  },
  {
   "cell_type": "code",
   "execution_count": 69,
   "metadata": {},
   "outputs": [
    {
     "name": "stdout",
     "output_type": "stream",
     "text": [
      "[[2.0]]\n"
     ]
    }
   ],
   "source": [
    "print(x)"
   ]
  },
  {
   "cell_type": "markdown",
   "metadata": {},
   "source": [
    "# Eager Mode - linear regression"
   ]
  },
  {
   "cell_type": "code",
   "execution_count": 70,
   "metadata": {},
   "outputs": [],
   "source": [
    "import numpy as np\n",
    "X_data = np.random.random((10000, 2))\n",
    "\n",
    "sample_weight = np.array([[3.,4.]])\n",
    "y_data = np.matmul(X_data, sample_weight.transpose())\n",
    "y_data = np.add(y_data, np.random.uniform(-0.5,0.5))"
   ]
  },
  {
   "cell_type": "code",
   "execution_count": 71,
   "metadata": {},
   "outputs": [],
   "source": [
    "#split data\n",
    "from sklearn.model_selection import train_test_split\n",
    "X_train, X_test, y_train, y_test = train_test_split(X_data, y_data, test_size=0.2)"
   ]
  },
  {
   "cell_type": "code",
   "execution_count": 72,
   "metadata": {},
   "outputs": [],
   "source": [
    "tfe = tf.contrib.eager"
   ]
  },
  {
   "cell_type": "code",
   "execution_count": 73,
   "metadata": {},
   "outputs": [],
   "source": [
    "# Khai báo biến\n",
    "W = tfe.Variable([[1.0, 1.0]])\n",
    "b = tfe.Variable(np.random.uniform(-0.2, 0.2))"
   ]
  },
  {
   "cell_type": "code",
   "execution_count": 74,
   "metadata": {},
   "outputs": [],
   "source": [
    "# Linear Regression\n",
    "def predict(inputs):\n",
    "    return tf.matmul(inputs, W, transpose_b=True)\n",
    "\n",
    "# Loss function\n",
    "# label là các giá trị của biến y\n",
    "def loss_func(model_fn, inputs, labels):\n",
    "    return tf.reduce_mean(tf.square(model_fn(inputs) - labels))"
   ]
  },
  {
   "cell_type": "code",
   "execution_count": 77,
   "metadata": {},
   "outputs": [],
   "source": [
    "# Parameters\n",
    "\n",
    "learning_rate = 0.001\n",
    "num_steps = 10000\n",
    "\n",
    "# Optimizer\n",
    "\n",
    "optimizer = tf.train.GradientDescentOptimizer(learning_rate=learning_rate)\n",
    "\n",
    "# caculate gradient\n",
    "grad = tfe.implicit_gradients(loss_func)"
   ]
  },
  {
   "cell_type": "code",
   "execution_count": 87,
   "metadata": {},
   "outputs": [
    {
     "name": "stdout",
     "output_type": "stream",
     "text": [
      "tf.Tensor(0.006300584, shape=(), dtype=float32) tf.Tensor(0.006444829, shape=(), dtype=float32)\n",
      "tf.Tensor(0.0062881894, shape=(), dtype=float32) tf.Tensor(0.0064334758, shape=(), dtype=float32)\n",
      "tf.Tensor(0.0062762033, shape=(), dtype=float32) tf.Tensor(0.006422507, shape=(), dtype=float32)\n",
      "tf.Tensor(0.006264581, shape=(), dtype=float32) tf.Tensor(0.0064118756, shape=(), dtype=float32)\n",
      "tf.Tensor(0.0062534, shape=(), dtype=float32) tf.Tensor(0.0064016543, shape=(), dtype=float32)\n",
      "tf.Tensor(0.00624251, shape=(), dtype=float32) tf.Tensor(0.0063917045, shape=(), dtype=float32)\n",
      "tf.Tensor(0.0062320656, shape=(), dtype=float32) tf.Tensor(0.00638217, shape=(), dtype=float32)\n",
      "tf.Tensor(0.0062218797, shape=(), dtype=float32) tf.Tensor(0.0063728667, shape=(), dtype=float32)\n",
      "tf.Tensor(0.0062121176, shape=(), dtype=float32) tf.Tensor(0.006363968, shape=(), dtype=float32)\n",
      "tf.Tensor(0.0062025967, shape=(), dtype=float32) tf.Tensor(0.006355283, shape=(), dtype=float32)\n",
      "tf.Tensor(0.006193462, shape=(), dtype=float32) tf.Tensor(0.006346967, shape=(), dtype=float32)\n",
      "tf.Tensor(0.006184571, shape=(), dtype=float32) tf.Tensor(0.006338869, shape=(), dtype=float32)\n",
      "tf.Tensor(0.006176012, shape=(), dtype=float32) tf.Tensor(0.0063310857, shape=(), dtype=float32)\n",
      "tf.Tensor(0.006167721, shape=(), dtype=float32) tf.Tensor(0.006323541, shape=(), dtype=float32)\n",
      "tf.Tensor(0.006159683, shape=(), dtype=float32) tf.Tensor(0.006316241, shape=(), dtype=float32)\n",
      "tf.Tensor(0.006151963, shape=(), dtype=float32) tf.Tensor(0.006309226, shape=(), dtype=float32)\n",
      "tf.Tensor(0.0061443984, shape=(), dtype=float32) tf.Tensor(0.0063023684, shape=(), dtype=float32)\n",
      "tf.Tensor(0.0061372234, shape=(), dtype=float32) tf.Tensor(0.006295851, shape=(), dtype=float32)\n",
      "tf.Tensor(0.00613016, shape=(), dtype=float32) tf.Tensor(0.0062894514, shape=(), dtype=float32)\n",
      "tf.Tensor(0.0061234157, shape=(), dtype=float32) tf.Tensor(0.006283347, shape=(), dtype=float32)\n",
      "tf.Tensor(0.0061168633, shape=(), dtype=float32) tf.Tensor(0.0062774136, shape=(), dtype=float32)\n",
      "tf.Tensor(0.006110479, shape=(), dtype=float32) tf.Tensor(0.0062716464, shape=(), dtype=float32)\n",
      "tf.Tensor(0.006104408, shape=(), dtype=float32) tf.Tensor(0.006266155, shape=(), dtype=float32)\n",
      "tf.Tensor(0.006098437, shape=(), dtype=float32) tf.Tensor(0.00626076, shape=(), dtype=float32)\n",
      "tf.Tensor(0.0060927263, shape=(), dtype=float32) tf.Tensor(0.006255613, shape=(), dtype=float32)\n",
      "tf.Tensor(0.006087202, shape=(), dtype=float32) tf.Tensor(0.0062506306, shape=(), dtype=float32)\n",
      "tf.Tensor(0.0060817767, shape=(), dtype=float32) tf.Tensor(0.006245737, shape=(), dtype=float32)\n",
      "tf.Tensor(0.006076655, shape=(), dtype=float32) tf.Tensor(0.006241134, shape=(), dtype=float32)\n",
      "tf.Tensor(0.006071642, shape=(), dtype=float32) tf.Tensor(0.0062366216, shape=(), dtype=float32)\n",
      "tf.Tensor(0.0060667326, shape=(), dtype=float32) tf.Tensor(0.006232216, shape=(), dtype=float32)\n",
      "tf.Tensor(0.0060621155, shape=(), dtype=float32) tf.Tensor(0.0062280665, shape=(), dtype=float32)\n",
      "tf.Tensor(0.0060575763, shape=(), dtype=float32) tf.Tensor(0.00622399, shape=(), dtype=float32)\n",
      "tf.Tensor(0.0060531367, shape=(), dtype=float32) tf.Tensor(0.0062200176, shape=(), dtype=float32)\n",
      "tf.Tensor(0.006048965, shape=(), dtype=float32) tf.Tensor(0.0062162806, shape=(), dtype=float32)\n",
      "tf.Tensor(0.006044863, shape=(), dtype=float32) tf.Tensor(0.0062126047, shape=(), dtype=float32)\n",
      "tf.Tensor(0.0060408395, shape=(), dtype=float32) tf.Tensor(0.0062090084, shape=(), dtype=float32)\n",
      "tf.Tensor(0.0060370695, shape=(), dtype=float32) tf.Tensor(0.0062056454, shape=(), dtype=float32)\n",
      "tf.Tensor(0.0060333735, shape=(), dtype=float32) tf.Tensor(0.0062023466, shape=(), dtype=float32)\n",
      "tf.Tensor(0.006029741, shape=(), dtype=float32) tf.Tensor(0.0061991033, shape=(), dtype=float32)\n",
      "tf.Tensor(0.0060262987, shape=(), dtype=float32) tf.Tensor(0.006196048, shape=(), dtype=float32)\n",
      "tf.Tensor(0.0060229786, shape=(), dtype=float32) tf.Tensor(0.0061930907, shape=(), dtype=float32)\n",
      "tf.Tensor(0.006019718, shape=(), dtype=float32) tf.Tensor(0.006190189, shape=(), dtype=float32)\n",
      "tf.Tensor(0.006016538, shape=(), dtype=float32) tf.Tensor(0.0061873742, shape=(), dtype=float32)\n",
      "tf.Tensor(0.006013568, shape=(), dtype=float32) tf.Tensor(0.00618474, shape=(), dtype=float32)\n",
      "tf.Tensor(0.006010648, shape=(), dtype=float32) tf.Tensor(0.00618215, shape=(), dtype=float32)\n",
      "tf.Tensor(0.0060077747, shape=(), dtype=float32) tf.Tensor(0.0061796065, shape=(), dtype=float32)\n",
      "tf.Tensor(0.006005028, shape=(), dtype=float32) tf.Tensor(0.0061771846, shape=(), dtype=float32)\n",
      "tf.Tensor(0.0060024243, shape=(), dtype=float32) tf.Tensor(0.0061748857, shape=(), dtype=float32)\n",
      "tf.Tensor(0.0059998636, shape=(), dtype=float32) tf.Tensor(0.0061726235, shape=(), dtype=float32)\n",
      "tf.Tensor(0.0059973476, shape=(), dtype=float32) tf.Tensor(0.0061704046, shape=(), dtype=float32)\n",
      "tf.Tensor(0.005994947, shape=(), dtype=float32) tf.Tensor(0.006168302, shape=(), dtype=float32)\n",
      "tf.Tensor(0.005992675, shape=(), dtype=float32) tf.Tensor(0.006166305, shape=(), dtype=float32)\n",
      "tf.Tensor(0.0059904414, shape=(), dtype=float32) tf.Tensor(0.006164341, shape=(), dtype=float32)\n",
      "tf.Tensor(0.005988244, shape=(), dtype=float32) tf.Tensor(0.0061624143, shape=(), dtype=float32)\n",
      "tf.Tensor(0.0059861145, shape=(), dtype=float32) tf.Tensor(0.006160557, shape=(), dtype=float32)\n",
      "tf.Tensor(0.0059841396, shape=(), dtype=float32) tf.Tensor(0.0061588315, shape=(), dtype=float32)\n",
      "tf.Tensor(0.0059822006, shape=(), dtype=float32) tf.Tensor(0.0061571384, shape=(), dtype=float32)\n",
      "tf.Tensor(0.005980291, shape=(), dtype=float32) tf.Tensor(0.006155472, shape=(), dtype=float32)\n",
      "tf.Tensor(0.005978418, shape=(), dtype=float32) tf.Tensor(0.0061538364, shape=(), dtype=float32)\n",
      "tf.Tensor(0.00597666, shape=(), dtype=float32) tf.Tensor(0.006152317, shape=(), dtype=float32)\n",
      "tf.Tensor(0.005974985, shape=(), dtype=float32) tf.Tensor(0.0061508636, shape=(), dtype=float32)\n",
      "tf.Tensor(0.005973337, shape=(), dtype=float32) tf.Tensor(0.0061494326, shape=(), dtype=float32)\n",
      "tf.Tensor(0.005971721, shape=(), dtype=float32) tf.Tensor(0.00614803, shape=(), dtype=float32)\n",
      "tf.Tensor(0.005970127, shape=(), dtype=float32) tf.Tensor(0.0061466526, shape=(), dtype=float32)\n",
      "tf.Tensor(0.0059686475, shape=(), dtype=float32) tf.Tensor(0.006145384, shape=(), dtype=float32)\n",
      "tf.Tensor(0.005967236, shape=(), dtype=float32) tf.Tensor(0.0061441674, shape=(), dtype=float32)\n",
      "tf.Tensor(0.005965847, shape=(), dtype=float32) tf.Tensor(0.00614297, shape=(), dtype=float32)\n",
      "tf.Tensor(0.0059644813, shape=(), dtype=float32) tf.Tensor(0.0061417967, shape=(), dtype=float32)\n",
      "tf.Tensor(0.005963139, shape=(), dtype=float32) tf.Tensor(0.006140645, shape=(), dtype=float32)\n",
      "tf.Tensor(0.0059618484, shape=(), dtype=float32) tf.Tensor(0.0061395485, shape=(), dtype=float32)\n",
      "tf.Tensor(0.005960669, shape=(), dtype=float32) tf.Tensor(0.0061385385, shape=(), dtype=float32)\n",
      "tf.Tensor(0.005959508, shape=(), dtype=float32) tf.Tensor(0.00613755, shape=(), dtype=float32)\n",
      "tf.Tensor(0.005958366, shape=(), dtype=float32) tf.Tensor(0.0061365757, shape=(), dtype=float32)\n",
      "tf.Tensor(0.005957242, shape=(), dtype=float32) tf.Tensor(0.006135622, shape=(), dtype=float32)\n",
      "tf.Tensor(0.0059561403, shape=(), dtype=float32) tf.Tensor(0.006134686, shape=(), dtype=float32)\n",
      "tf.Tensor(0.0059550856, shape=(), dtype=float32) tf.Tensor(0.006133801, shape=(), dtype=float32)\n",
      "tf.Tensor(0.0059541264, shape=(), dtype=float32) tf.Tensor(0.006132986, shape=(), dtype=float32)\n",
      "tf.Tensor(0.00595318, shape=(), dtype=float32) tf.Tensor(0.00613219, shape=(), dtype=float32)\n",
      "tf.Tensor(0.0059522525, shape=(), dtype=float32) tf.Tensor(0.0061314083, shape=(), dtype=float32)\n",
      "tf.Tensor(0.00595134, shape=(), dtype=float32) tf.Tensor(0.006130638, shape=(), dtype=float32)\n",
      "tf.Tensor(0.005950439, shape=(), dtype=float32) tf.Tensor(0.0061298884, shape=(), dtype=float32)\n",
      "tf.Tensor(0.005949558, shape=(), dtype=float32) tf.Tensor(0.0061291484, shape=(), dtype=float32)\n",
      "tf.Tensor(0.0059487526, shape=(), dtype=float32) tf.Tensor(0.006128483, shape=(), dtype=float32)\n",
      "tf.Tensor(0.005947995, shape=(), dtype=float32) tf.Tensor(0.006127852, shape=(), dtype=float32)\n",
      "tf.Tensor(0.005947248, shape=(), dtype=float32) tf.Tensor(0.00612723, shape=(), dtype=float32)\n",
      "tf.Tensor(0.0059465123, shape=(), dtype=float32) tf.Tensor(0.0061266213, shape=(), dtype=float32)\n"
     ]
    },
    {
     "name": "stdout",
     "output_type": "stream",
     "text": [
      "tf.Tensor(0.005945789, shape=(), dtype=float32) tf.Tensor(0.0061260224, shape=(), dtype=float32)\n",
      "tf.Tensor(0.00594508, shape=(), dtype=float32) tf.Tensor(0.006125435, shape=(), dtype=float32)\n",
      "tf.Tensor(0.005944382, shape=(), dtype=float32) tf.Tensor(0.0061248625, shape=(), dtype=float32)\n",
      "tf.Tensor(0.005943713, shape=(), dtype=float32) tf.Tensor(0.0061243223, shape=(), dtype=float32)\n",
      "tf.Tensor(0.0059431256, shape=(), dtype=float32) tf.Tensor(0.006123839, shape=(), dtype=float32)\n",
      "tf.Tensor(0.0059425402, shape=(), dtype=float32) tf.Tensor(0.0061233616, shape=(), dtype=float32)\n",
      "tf.Tensor(0.0059419707, shape=(), dtype=float32) tf.Tensor(0.006122894, shape=(), dtype=float32)\n",
      "tf.Tensor(0.005941408, shape=(), dtype=float32) tf.Tensor(0.0061224382, shape=(), dtype=float32)\n",
      "tf.Tensor(0.0059408536, shape=(), dtype=float32) tf.Tensor(0.0061219884, shape=(), dtype=float32)\n",
      "tf.Tensor(0.005940312, shape=(), dtype=float32) tf.Tensor(0.0061215516, shape=(), dtype=float32)\n",
      "tf.Tensor(0.0059397775, shape=(), dtype=float32) tf.Tensor(0.006121119, shape=(), dtype=float32)\n",
      "tf.Tensor(0.0059392536, shape=(), dtype=float32) tf.Tensor(0.006120696, shape=(), dtype=float32)\n",
      "tf.Tensor(0.0059387893, shape=(), dtype=float32) tf.Tensor(0.006120332, shape=(), dtype=float32)\n",
      "tf.Tensor(0.0059383535, shape=(), dtype=float32) tf.Tensor(0.0061199856, shape=(), dtype=float32)\n"
     ]
    }
   ],
   "source": [
    "# training model\n",
    "\n",
    "for i in range(num_steps):\n",
    "    optimizer.apply_gradients(grad(predict, np.float32(X_train), np.float32(y_train)))\n",
    "    if i % 100 == 0:\n",
    "        train_loss = loss_func(predict, np.float32(X_train), np.float32(y_train))\n",
    "        test_loss = loss_func(predict, np.float32(X_test), np.float32(y_test))\n",
    "        \n",
    "        print(train_loss, test_loss)"
   ]
  },
  {
   "cell_type": "code",
   "execution_count": 88,
   "metadata": {},
   "outputs": [
    {
     "data": {
      "text/plain": [
       "array([[2.8340738, 3.8167686]], dtype=float32)"
      ]
     },
     "execution_count": 88,
     "metadata": {},
     "output_type": "execute_result"
    }
   ],
   "source": [
    "W.numpy()"
   ]
  },
  {
   "cell_type": "code",
   "execution_count": 89,
   "metadata": {},
   "outputs": [
    {
     "data": {
      "text/plain": [
       "0.09623385"
      ]
     },
     "execution_count": 89,
     "metadata": {},
     "output_type": "execute_result"
    }
   ],
   "source": [
    "b.numpy()"
   ]
  },
  {
   "cell_type": "code",
   "execution_count": 90,
   "metadata": {},
   "outputs": [],
   "source": [
    "y_pred = predict(np.float32(X_test))"
   ]
  },
  {
   "cell_type": "code",
   "execution_count": 91,
   "metadata": {},
   "outputs": [
    {
     "data": {
      "text/plain": [
       "<tf.Tensor: id=677768, shape=(2000, 1), dtype=float32, numpy=\n",
       "array([[4.901043 ],\n",
       "       [2.6913328],\n",
       "       [2.8022485],\n",
       "       ...,\n",
       "       [3.6694264],\n",
       "       [4.142091 ],\n",
       "       [1.4289618]], dtype=float32)>"
      ]
     },
     "execution_count": 91,
     "metadata": {},
     "output_type": "execute_result"
    }
   ],
   "source": [
    "y_pred"
   ]
  },
  {
   "cell_type": "code",
   "execution_count": 92,
   "metadata": {},
   "outputs": [
    {
     "data": {
      "text/plain": [
       "[<matplotlib.lines.Line2D at 0x1bbd5866cf8>]"
      ]
     },
     "execution_count": 92,
     "metadata": {},
     "output_type": "execute_result"
    },
    {
     "data": {
      "image/png": "[encoded data removed]",
      "text/plain": [
       "<Figure size 432x288 with 1 Axes>"
      ]
     },
     "metadata": {
      "needs_background": "light"
     },
     "output_type": "display_data"
    }
   ],
   "source": [
    "import matplotlib.pyplot as plt\n",
    "plt.plot(range(len(y_test[:20])), y_test[:20], 'bo')"
   ]
  },
  {
   "cell_type": "code",
   "execution_count": 94,
   "metadata": {},
   "outputs": [
    {
     "data": {
      "text/plain": [
       "[<matplotlib.lines.Line2D at 0x1bbd5949b38>]"
      ]
     },
     "execution_count": 94,
     "metadata": {},
     "output_type": "execute_result"
    },
    {
     "data": {
      "image/png": "[encoded data removed]",
      "text/plain": [
       "<Figure size 432x288 with 1 Axes>"
      ]
     },
     "metadata": {
      "needs_background": "light"
     },
     "output_type": "display_data"
    }
   ],
   "source": [
    "plt.plot(range(len(y_pred.numpy()[:20])), y_pred.numpy()[:20], 'ro')"
   ]
  },
  {
   "cell_type": "code",
   "execution_count": null,
   "metadata": {},
   "outputs": [],
   "source": []
  }
 ],
 "metadata": {
  "kernelspec": {
   "display_name": "Python 3",
   "language": "python",
   "name": "python3"
  },
  "language_info": {
   "codemirror_mode": {
    "name": "ipython",
    "version": 3
   },
   "file_extension": ".py",
   "mimetype": "text/x-python",
   "name": "python",
   "nbconvert_exporter": "python",
   "pygments_lexer": "ipython3",
   "version": "3.7.3"
  }
 },
 "nbformat": 4,
 "nbformat_minor": 2
}
